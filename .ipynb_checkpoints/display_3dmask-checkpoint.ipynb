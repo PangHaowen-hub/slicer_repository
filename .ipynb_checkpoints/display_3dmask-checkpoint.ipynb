{
 "cells": [
  {
   "cell_type": "code",
   "execution_count": 1,
   "id": "3fce8c5b",
   "metadata": {},
   "outputs": [],
   "source": [
    "import JupyterNotebooksLib as slicernb\n",
    "import ScreenCapture\n",
    "import os\n",
    "slicernb.showSliceViewAnnotations(False)"
   ]
  },
  {
   "cell_type": "markdown",
   "id": "56df97ef",
   "metadata": {},
   "source": [
    "## lung mask"
   ]
  },
  {
   "cell_type": "code",
   "execution_count": 2,
   "id": "9a658ac7",
   "metadata": {},
   "outputs": [
    {
     "ename": "RuntimeError",
     "evalue": "Failed to load node from file: J:\\Paper_COPD\\3-airway\\COPD\\nii\\dalian\\plans.pkl",
     "output_type": "error",
     "traceback": [
      "\u001b[0;31m---------------------------------------------------------------------------\u001b[0m\n\u001b[0;31mRuntimeError\u001b[0m                              Traceback (most recent call last)",
      "In  \u001b[0;34m[2]\u001b[0m:\nLine \u001b[0;34m8\u001b[0m:     \n",
      "File \u001b[0;34mE:\\Slicer 4.11.20210226\\bin\\Python\\slicer\\util.py\u001b[0m, in \u001b[0;32mloadVolume\u001b[0m:\nLine \u001b[0;34m868\u001b[0m:   \u001b[34mreturn\u001b[39;49;00m loadNodeFromFile(filename, filetype, properties, returnNode)\n",
      "File \u001b[0;34mE:\\Slicer 4.11.20210226\\bin\\Python\\slicer\\util.py\u001b[0m, in \u001b[0;32mloadNodeFromFile\u001b[0m:\nLine \u001b[0;34m650\u001b[0m:   \u001b[34mraise\u001b[39;49;00m \u001b[36mRuntimeError\u001b[39;49;00m(errorMessage)\n",
      "\u001b[0;31mRuntimeError\u001b[0m: Failed to load node from file: J:\\Paper_COPD\\3-airway\\COPD\\nii\\dalian\\plans.pkl\n\u001b[0;31m---------------------------------------------------------------------------\u001b[0m"
     ]
    }
   ],
   "source": [
    "path = r\"J:\\Paper_COPD\\3-airway\\COPD\\nii\\dalian\"\n",
    "save_path = r\"J:\\Paper_COPD\\5-snapshots\\2-airway\\COPD\\dalian\"\n",
    "k = 1\n",
    "for f in os.listdir(path):\n",
    "    # Clear scene\n",
    "    slicer.mrmlScene.Clear(False)\n",
    "    img_path = os.path.join(path, f)\n",
    "    volume = slicer.util.loadVolume(img_path)\n",
    "    slicernb.showVolumeRendering(volume, presetName='Vesselness')\n",
    "    slicernb.reset3DView(viewID=0)\n",
    "    threeDWidget = slicer.app.layoutManager().threeDWidget(0)\n",
    "    threeDView = threeDWidget.threeDView()\n",
    "    threeDView.resetCamera()\n",
    "    threeDView.resize(512,512)\n",
    "    \n",
    "    viewNode = slicer.app.layoutManager().threeDWidget(0).mrmlViewNode()\n",
    "    viewNode.SetBackgroundColor(1,1,1)\n",
    "    viewNode.SetBackgroundColor2(1,1,1)\n",
    "    \n",
    "    # 保存图像\n",
    "    slicernb.View3DDisplay(0, orientation=[0, 0, 0])\n",
    "    viewNodeID = \"vtkMRMLViewNode1\"\n",
    "    cap = ScreenCapture.ScreenCaptureLogic()\n",
    "    view = cap.viewFromNode(slicer.mrmlScene.GetNodeByID(viewNodeID))\n",
    "    cap.captureImageFromView(view, os.path.join(save_path, str(k), f + '_1.png'))\n",
    "    \n",
    "    # 保存图像\n",
    "    slicernb.View3DDisplay(0, orientation=[0, 0, 180])\n",
    "    viewNodeID = \"vtkMRMLViewNode1\"\n",
    "    cap = ScreenCapture.ScreenCaptureLogic()\n",
    "    view = cap.viewFromNode(slicer.mrmlScene.GetNodeByID(viewNodeID))\n",
    "    cap.captureImageFromView(view, os.path.join(save_path, str(k), f + '_2.png'))\n",
    "    \n",
    "    # 保存图像\n",
    "    slicernb.View3DDisplay(0, orientation=[0, -90, 0])\n",
    "    viewNodeID = \"vtkMRMLViewNode1\"\n",
    "    cap = ScreenCapture.ScreenCaptureLogic()\n",
    "    view = cap.viewFromNode(slicer.mrmlScene.GetNodeByID(viewNodeID))\n",
    "    cap.captureImageFromView(view, os.path.join(save_path, str(k), f + '_3.png'))\n",
    "    \n",
    "    # 保存图像\n",
    "    slicernb.View3DDisplay(0, orientation=[0, 90, 0])\n",
    "    viewNodeID = \"vtkMRMLViewNode1\"\n",
    "    cap = ScreenCapture.ScreenCaptureLogic()\n",
    "    view = cap.viewFromNode(slicer.mrmlScene.GetNodeByID(viewNodeID))\n",
    "    cap.captureImageFromView(view, os.path.join(save_path, str(k), f + '_4.png'))\n",
    "    \n",
    "    # 保存图像\n",
    "    slicernb.View3DDisplay(0, orientation=[0, 0, 90])\n",
    "    viewNodeID = \"vtkMRMLViewNode1\"\n",
    "    cap = ScreenCapture.ScreenCaptureLogic()\n",
    "    view = cap.viewFromNode(slicer.mrmlScene.GetNodeByID(viewNodeID))\n",
    "    cap.captureImageFromView(view, os.path.join(save_path, str(k), f + '_5.png'))\n",
    "    \n",
    "    # 保存图像\n",
    "    slicernb.View3DDisplay(0, orientation=[0, 0, -90])\n",
    "    viewNodeID = \"vtkMRMLViewNode1\"\n",
    "    cap = ScreenCapture.ScreenCaptureLogic()\n",
    "    view = cap.viewFromNode(slicer.mrmlScene.GetNodeByID(viewNodeID))\n",
    "    cap.captureImageFromView(view, os.path.join(save_path, str(k), f + '_6.png'))\n",
    "    \n",
    "    k += 1\n",
    "    "
   ]
  },
  {
   "cell_type": "markdown",
   "id": "01390d33",
   "metadata": {},
   "source": [
    "## airway mask"
   ]
  },
  {
   "cell_type": "code",
   "execution_count": 29,
   "id": "9856e526",
   "metadata": {},
   "outputs": [
    {
     "ename": "RuntimeError",
     "evalue": "Failed to load node from file: J:\\Paper_COPD\\3-airway\\HC\\nii\\yxy\\plans.pkl",
     "output_type": "error",
     "traceback": [
      "\u001b[0;31m---------------------------------------------------------------------------\u001b[0m\n\u001b[0;31mRuntimeError\u001b[0m                              Traceback (most recent call last)",
      "In  \u001b[0;34m[29]\u001b[0m:\nLine \u001b[0;34m8\u001b[0m:     \n",
      "File \u001b[0;34mE:\\Slicer 4.11.20210226\\bin\\Python\\slicer\\util.py\u001b[0m, in \u001b[0;32mloadVolume\u001b[0m:\nLine \u001b[0;34m868\u001b[0m:   \u001b[34mreturn\u001b[39;49;00m loadNodeFromFile(filename, filetype, properties, returnNode)\n",
      "File \u001b[0;34mE:\\Slicer 4.11.20210226\\bin\\Python\\slicer\\util.py\u001b[0m, in \u001b[0;32mloadNodeFromFile\u001b[0m:\nLine \u001b[0;34m650\u001b[0m:   \u001b[34mraise\u001b[39;49;00m \u001b[36mRuntimeError\u001b[39;49;00m(errorMessage)\n",
      "\u001b[0;31mRuntimeError\u001b[0m: Failed to load node from file: J:\\Paper_COPD\\3-airway\\HC\\nii\\yxy\\plans.pkl\n\u001b[0;31m---------------------------------------------------------------------------\u001b[0m"
     ]
    }
   ],
   "source": [
    "path = r\"J:\\Paper_COPD\\3-airway\\HC\\nii\\yxy\"\n",
    "save_path = r\"J:\\Paper_COPD\\5-snapshots\\2-airway\\HC\\yxy\"\n",
    "k = 1\n",
    "for f in os.listdir(path):\n",
    "    # Clear scene\n",
    "    slicer.mrmlScene.Clear(False)\n",
    "    img_path = os.path.join(path, f)\n",
    "    volume = slicer.util.loadVolume(img_path)\n",
    "    slicernb.showVolumeRendering(volume, presetName='Vesselness')\n",
    "    slicernb.reset3DView(viewID=0)\n",
    "    threeDWidget = slicer.app.layoutManager().threeDWidget(0)\n",
    "    threeDView = threeDWidget.threeDView()\n",
    "    threeDView.resetCamera()\n",
    "    threeDView.resize(512,512)\n",
    "    \n",
    "    viewNode = slicer.app.layoutManager().threeDWidget(0).mrmlViewNode()\n",
    "    viewNode.SetBackgroundColor(1,1,1)\n",
    "    viewNode.SetBackgroundColor2(1,1,1)\n",
    "    \n",
    "    # 保存图像\n",
    "    slicernb.View3DDisplay(0, orientation=[0, 0, 0])\n",
    "    viewNodeID = \"vtkMRMLViewNode1\"\n",
    "    cap = ScreenCapture.ScreenCaptureLogic()\n",
    "    view = cap.viewFromNode(slicer.mrmlScene.GetNodeByID(viewNodeID))\n",
    "    cap.captureImageFromView(view, os.path.join(save_path, str(k), f + '_1.png'))\n",
    "    \n",
    "    # 保存图像\n",
    "    slicernb.View3DDisplay(0, orientation=[0, 0, 180])\n",
    "    viewNodeID = \"vtkMRMLViewNode1\"\n",
    "    cap = ScreenCapture.ScreenCaptureLogic()\n",
    "    view = cap.viewFromNode(slicer.mrmlScene.GetNodeByID(viewNodeID))\n",
    "    cap.captureImageFromView(view, os.path.join(save_path, str(k), f + '_2.png'))\n",
    "    \n",
    "    # 保存图像\n",
    "    slicernb.View3DDisplay(0, orientation=[0, -45, 0])\n",
    "    viewNodeID = \"vtkMRMLViewNode1\"\n",
    "    cap = ScreenCapture.ScreenCaptureLogic()\n",
    "    view = cap.viewFromNode(slicer.mrmlScene.GetNodeByID(viewNodeID))\n",
    "    cap.captureImageFromView(view, os.path.join(save_path, str(k), f + '_3.png'))\n",
    "    \n",
    "    k += 1\n",
    "    "
   ]
  },
  {
   "cell_type": "markdown",
   "id": "357c47c5",
   "metadata": {},
   "source": [
    "# Enable volume cropping\n",
    "displayNode = slicer.modules.volumerendering.logic().GetFirstVolumeRenderingDisplayNode(volume)\n",
    "\n",
    "displayNode.SetCroppingEnabled(True)\n",
    "\n",
    "roiNode = displayNode.GetROINode()\n",
    "\n",
    "# 3D view display\n",
    "slicernb.reset3DView()\n",
    "\n",
    "from ipywidgets import interact\n",
    "\n",
    "@interact(roll=(-180.0,180.0,5), pitch=(-180.0,180.0,5), yaw=(-180.0,180.0,5), cropx=(0,512,1), cropy=(0,512,5), cropz=(0, 512, 1))\n",
    "\n",
    "def update(roll=0, pitch=0, yaw=0, cropx=80, cropy=80, cropz=80):\n",
    "\n",
    "    roiNode.SetRadiusXYZ([cropx, cropy, cropz])\n",
    "    \n",
    "    return slicernb.View3DDisplay(0, orientation=[roll, pitch, yaw])\n",
    "    "
   ]
  },
  {
   "cell_type": "code",
   "execution_count": 25,
   "id": "578752eb",
   "metadata": {},
   "outputs": [],
   "source": [
    "# Clear scene\n",
    "slicer.mrmlScene.Clear(False)\n",
    "testPath = r\"J:\\Paper_COPD\\3-airway\\COPD\\nii\\dalian\\dalian_001.nii.gz\"\n",
    "# testPath = r\"F:\\my_code\\slicer\\data\\img\\lobe512_000_0000.nii.gz\"\n",
    "volume = slicer.util.loadVolume(testPath)\n",
    "slicernb.showVolumeRendering(volume, presetName='Vesselness')\n",
    "# slicernb.showVolumeRendering(volume)\n",
    "slicernb.reset3DView(viewID=0)\n",
    "threeDWidget = slicer.app.layoutManager().threeDWidget(0)\n",
    "\n",
    "\n",
    "viewNode = slicer.app.layoutManager().threeDWidget(0).mrmlViewNode()\n",
    "viewNode.SetBackgroundColor(1,1,1)\n",
    "viewNode.SetBackgroundColor2(1,1,1)\n",
    "\n",
    "threeDView = threeDWidget.threeDView()\n",
    "threeDView.resetCamera()\n",
    "slicernb.View3DDisplay(0, orientation=[0, -45, 0])\n",
    "threeDView.resize(512,512)\n",
    "\n",
    "# 保存图像\n",
    "viewNodeID = \"vtkMRMLViewNode1\"\n",
    "cap = ScreenCapture.ScreenCaptureLogic()\n",
    "view = cap.viewFromNode(slicer.mrmlScene.GetNodeByID(viewNodeID))\n",
    "cap.captureImageFromView(view, 'test1.png')"
   ]
  },
  {
   "cell_type": "code",
   "execution_count": null,
   "id": "3d4c31c8",
   "metadata": {},
   "outputs": [],
   "source": []
  }
 ],
 "metadata": {
  "kernelspec": {
   "display_name": "Slicer 4.11",
   "language": "python",
   "name": "slicer-4.11"
  },
  "language_info": {
   "file_extension": ".py",
   "mimetype": "text/x-python",
   "name": "python",
   "version": "3.6.7"
  }
 },
 "nbformat": 4,
 "nbformat_minor": 5
}
